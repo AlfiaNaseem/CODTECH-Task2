{
 "cells": [
  {
   "cell_type": "code",
   "execution_count": 1,
   "id": "dd43f301-0bc5-4bc9-aad4-3ecdbfd9972c",
   "metadata": {
    "scrolled": true
   },
   "outputs": [
    {
     "name": "stdout",
     "output_type": "stream",
     "text": [
      "Requirement already satisfied: scikit-learn in c:\\users\\dell\\anaconda3\\lib\\site-packages (1.4.2)Note: you may need to restart the kernel to use updated packages.\n",
      "\n",
      "Requirement already satisfied: numpy>=1.19.5 in c:\\users\\dell\\anaconda3\\lib\\site-packages (from scikit-learn) (1.26.4)\n",
      "Requirement already satisfied: scipy>=1.6.0 in c:\\users\\dell\\anaconda3\\lib\\site-packages (from scikit-learn) (1.13.1)\n",
      "Requirement already satisfied: joblib>=1.2.0 in c:\\users\\dell\\anaconda3\\lib\\site-packages (from scikit-learn) (1.4.2)\n",
      "Requirement already satisfied: threadpoolctl>=2.0.0 in c:\\users\\dell\\anaconda3\\lib\\site-packages (from scikit-learn) (2.2.0)\n"
     ]
    }
   ],
   "source": [
    "pip install scikit-learn"
   ]
  },
  {
   "cell_type": "code",
   "execution_count": 6,
   "id": "c209cd0e-b556-40c3-85b9-9433e06a48f2",
   "metadata": {},
   "outputs": [
    {
     "name": "stdout",
     "output_type": "stream",
     "text": [
      "Requirement already satisfied: nltk in c:\\users\\dell\\anaconda3\\lib\\site-packages (3.8.1)\n",
      "Requirement already satisfied: click in c:\\users\\dell\\anaconda3\\lib\\site-packages (from nltk) (8.1.7)\n",
      "Requirement already satisfied: joblib in c:\\users\\dell\\anaconda3\\lib\\site-packages (from nltk) (1.4.2)\n",
      "Requirement already satisfied: regex>=2021.8.3 in c:\\users\\dell\\anaconda3\\lib\\site-packages (from nltk) (2023.10.3)\n",
      "Requirement already satisfied: tqdm in c:\\users\\dell\\anaconda3\\lib\\site-packages (from nltk) (4.66.4)\n",
      "Requirement already satisfied: colorama in c:\\users\\dell\\anaconda3\\lib\\site-packages (from click->nltk) (0.4.6)\n",
      "Note: you may need to restart the kernel to use updated packages.\n"
     ]
    }
   ],
   "source": [
    "pip install nltk"
   ]
  },
  {
   "cell_type": "code",
   "execution_count": 3,
   "id": "bc66a9dc-ebf9-4b6f-9c0f-5d941e7d2d5f",
   "metadata": {},
   "outputs": [
    {
     "name": "stdout",
     "output_type": "stream",
     "text": [
      "Collecting spacy\n",
      "  Downloading spacy-3.7.5-cp312-cp312-win_amd64.whl.metadata (27 kB)\n",
      "Collecting spacy-legacy<3.1.0,>=3.0.11 (from spacy)\n",
      "  Downloading spacy_legacy-3.0.12-py2.py3-none-any.whl.metadata (2.8 kB)\n",
      "Collecting spacy-loggers<2.0.0,>=1.0.0 (from spacy)\n",
      "  Downloading spacy_loggers-1.0.5-py3-none-any.whl.metadata (23 kB)\n",
      "Collecting murmurhash<1.1.0,>=0.28.0 (from spacy)\n",
      "  Downloading murmurhash-1.0.10-cp312-cp312-win_amd64.whl.metadata (2.0 kB)\n",
      "Collecting cymem<2.1.0,>=2.0.2 (from spacy)\n",
      "  Downloading cymem-2.0.8-cp312-cp312-win_amd64.whl.metadata (8.6 kB)\n",
      "Collecting preshed<3.1.0,>=3.0.2 (from spacy)\n",
      "  Downloading preshed-3.0.9-cp312-cp312-win_amd64.whl.metadata (2.2 kB)\n",
      "Collecting thinc<8.3.0,>=8.2.2 (from spacy)\n",
      "  Downloading thinc-8.2.5-cp312-cp312-win_amd64.whl.metadata (15 kB)\n",
      "Collecting wasabi<1.2.0,>=0.9.1 (from spacy)\n",
      "  Downloading wasabi-1.1.3-py3-none-any.whl.metadata (28 kB)\n",
      "Collecting srsly<3.0.0,>=2.4.3 (from spacy)\n",
      "  Downloading srsly-2.4.8-cp312-cp312-win_amd64.whl.metadata (20 kB)\n",
      "Collecting catalogue<2.1.0,>=2.0.6 (from spacy)\n",
      "  Downloading catalogue-2.0.10-py3-none-any.whl.metadata (14 kB)\n",
      "Collecting weasel<0.5.0,>=0.1.0 (from spacy)\n",
      "  Downloading weasel-0.4.1-py3-none-any.whl.metadata (4.6 kB)\n",
      "Collecting typer<1.0.0,>=0.3.0 (from spacy)\n",
      "  Downloading typer-0.12.3-py3-none-any.whl.metadata (15 kB)\n",
      "Requirement already satisfied: tqdm<5.0.0,>=4.38.0 in c:\\users\\dell\\anaconda3\\lib\\site-packages (from spacy) (4.66.4)\n",
      "Requirement already satisfied: requests<3.0.0,>=2.13.0 in c:\\users\\dell\\anaconda3\\lib\\site-packages (from spacy) (2.32.2)\n",
      "Requirement already satisfied: pydantic!=1.8,!=1.8.1,<3.0.0,>=1.7.4 in c:\\users\\dell\\anaconda3\\lib\\site-packages (from spacy) (2.5.3)\n",
      "Requirement already satisfied: jinja2 in c:\\users\\dell\\anaconda3\\lib\\site-packages (from spacy) (3.1.4)\n",
      "Requirement already satisfied: setuptools in c:\\users\\dell\\anaconda3\\lib\\site-packages (from spacy) (69.5.1)\n",
      "Requirement already satisfied: packaging>=20.0 in c:\\users\\dell\\anaconda3\\lib\\site-packages (from spacy) (23.2)\n",
      "Collecting langcodes<4.0.0,>=3.2.0 (from spacy)\n",
      "  Downloading langcodes-3.4.0-py3-none-any.whl.metadata (29 kB)\n",
      "Requirement already satisfied: numpy>=1.19.0 in c:\\users\\dell\\anaconda3\\lib\\site-packages (from spacy) (1.26.4)\n",
      "Collecting language-data>=1.2 (from langcodes<4.0.0,>=3.2.0->spacy)\n",
      "  Downloading language_data-1.2.0-py3-none-any.whl.metadata (4.3 kB)\n",
      "Requirement already satisfied: annotated-types>=0.4.0 in c:\\users\\dell\\anaconda3\\lib\\site-packages (from pydantic!=1.8,!=1.8.1,<3.0.0,>=1.7.4->spacy) (0.6.0)\n",
      "Requirement already satisfied: pydantic-core==2.14.6 in c:\\users\\dell\\anaconda3\\lib\\site-packages (from pydantic!=1.8,!=1.8.1,<3.0.0,>=1.7.4->spacy) (2.14.6)\n",
      "Requirement already satisfied: typing-extensions>=4.6.1 in c:\\users\\dell\\anaconda3\\lib\\site-packages (from pydantic!=1.8,!=1.8.1,<3.0.0,>=1.7.4->spacy) (4.11.0)\n",
      "Requirement already satisfied: charset-normalizer<4,>=2 in c:\\users\\dell\\anaconda3\\lib\\site-packages (from requests<3.0.0,>=2.13.0->spacy) (2.0.4)\n",
      "Requirement already satisfied: idna<4,>=2.5 in c:\\users\\dell\\anaconda3\\lib\\site-packages (from requests<3.0.0,>=2.13.0->spacy) (3.7)\n",
      "Requirement already satisfied: urllib3<3,>=1.21.1 in c:\\users\\dell\\anaconda3\\lib\\site-packages (from requests<3.0.0,>=2.13.0->spacy) (2.2.2)\n",
      "Requirement already satisfied: certifi>=2017.4.17 in c:\\users\\dell\\anaconda3\\lib\\site-packages (from requests<3.0.0,>=2.13.0->spacy) (2024.7.4)\n",
      "Collecting blis<0.8.0,>=0.7.8 (from thinc<8.3.0,>=8.2.2->spacy)\n",
      "  Downloading blis-0.7.11-cp312-cp312-win_amd64.whl.metadata (7.6 kB)\n",
      "Collecting confection<1.0.0,>=0.0.1 (from thinc<8.3.0,>=8.2.2->spacy)\n",
      "  Downloading confection-0.1.5-py3-none-any.whl.metadata (19 kB)\n",
      "Requirement already satisfied: colorama in c:\\users\\dell\\anaconda3\\lib\\site-packages (from tqdm<5.0.0,>=4.38.0->spacy) (0.4.6)\n",
      "Requirement already satisfied: click>=8.0.0 in c:\\users\\dell\\anaconda3\\lib\\site-packages (from typer<1.0.0,>=0.3.0->spacy) (8.1.7)\n",
      "Collecting shellingham>=1.3.0 (from typer<1.0.0,>=0.3.0->spacy)\n",
      "  Downloading shellingham-1.5.4-py2.py3-none-any.whl.metadata (3.5 kB)\n",
      "Requirement already satisfied: rich>=10.11.0 in c:\\users\\dell\\anaconda3\\lib\\site-packages (from typer<1.0.0,>=0.3.0->spacy) (13.3.5)\n",
      "Collecting cloudpathlib<1.0.0,>=0.7.0 (from weasel<0.5.0,>=0.1.0->spacy)\n",
      "  Downloading cloudpathlib-0.18.1-py3-none-any.whl.metadata (14 kB)\n",
      "Requirement already satisfied: smart-open<8.0.0,>=5.2.1 in c:\\users\\dell\\anaconda3\\lib\\site-packages (from weasel<0.5.0,>=0.1.0->spacy) (5.2.1)\n",
      "Requirement already satisfied: MarkupSafe>=2.0 in c:\\users\\dell\\anaconda3\\lib\\site-packages (from jinja2->spacy) (2.1.3)\n",
      "Collecting marisa-trie>=0.7.7 (from language-data>=1.2->langcodes<4.0.0,>=3.2.0->spacy)\n",
      "  Downloading marisa_trie-1.2.0-cp312-cp312-win_amd64.whl.metadata (9.0 kB)\n",
      "Requirement already satisfied: markdown-it-py<3.0.0,>=2.2.0 in c:\\users\\dell\\anaconda3\\lib\\site-packages (from rich>=10.11.0->typer<1.0.0,>=0.3.0->spacy) (2.2.0)\n",
      "Requirement already satisfied: pygments<3.0.0,>=2.13.0 in c:\\users\\dell\\anaconda3\\lib\\site-packages (from rich>=10.11.0->typer<1.0.0,>=0.3.0->spacy) (2.15.1)\n",
      "Requirement already satisfied: mdurl~=0.1 in c:\\users\\dell\\anaconda3\\lib\\site-packages (from markdown-it-py<3.0.0,>=2.2.0->rich>=10.11.0->typer<1.0.0,>=0.3.0->spacy) (0.1.0)\n",
      "Downloading spacy-3.7.5-cp312-cp312-win_amd64.whl (11.7 MB)\n",
      "   ---------------------------------------- 0.0/11.7 MB ? eta -:--:--\n",
      "   ---------------------------------------- 0.1/11.7 MB 2.6 MB/s eta 0:00:05\n",
      "    --------------------------------------- 0.2/11.7 MB 2.8 MB/s eta 0:00:05\n",
      "   -- ------------------------------------- 0.7/11.7 MB 4.9 MB/s eta 0:00:03\n",
      "   --- ------------------------------------ 1.2/11.7 MB 6.7 MB/s eta 0:00:02\n",
      "   ------ --------------------------------- 2.0/11.7 MB 9.6 MB/s eta 0:00:02\n",
      "   ------ --------------------------------- 2.0/11.7 MB 9.6 MB/s eta 0:00:02\n",
      "   ------- -------------------------------- 2.3/11.7 MB 7.2 MB/s eta 0:00:02\n",
      "   -------- ------------------------------- 2.6/11.7 MB 7.2 MB/s eta 0:00:02\n",
      "   --------- ------------------------------ 2.8/11.7 MB 7.1 MB/s eta 0:00:02\n",
      "   ---------- ----------------------------- 3.1/11.7 MB 7.0 MB/s eta 0:00:02\n",
      "   ------------ --------------------------- 3.6/11.7 MB 7.0 MB/s eta 0:00:02\n",
      "   ------------- -------------------------- 3.8/11.7 MB 7.0 MB/s eta 0:00:02\n",
      "   -------------- ------------------------- 4.2/11.7 MB 7.1 MB/s eta 0:00:02\n",
      "   --------------- ------------------------ 4.6/11.7 MB 6.9 MB/s eta 0:00:02\n",
      "   ---------------- ----------------------- 4.8/11.7 MB 6.9 MB/s eta 0:00:01\n",
      "   ---------------- ----------------------- 4.8/11.7 MB 6.9 MB/s eta 0:00:01\n",
      "   ------------------ --------------------- 5.3/11.7 MB 6.8 MB/s eta 0:00:01\n",
      "   ------------------- -------------------- 5.8/11.7 MB 6.8 MB/s eta 0:00:01\n",
      "   -------------------- ------------------- 6.1/11.7 MB 6.9 MB/s eta 0:00:01\n",
      "   -------------------- ------------------- 6.1/11.7 MB 6.9 MB/s eta 0:00:01\n",
      "   ---------------------- ----------------- 6.5/11.7 MB 6.8 MB/s eta 0:00:01\n",
      "   ----------------------- ---------------- 6.8/11.7 MB 6.6 MB/s eta 0:00:01\n",
      "   ------------------------ --------------- 7.1/11.7 MB 6.6 MB/s eta 0:00:01\n",
      "   ------------------------ --------------- 7.2/11.7 MB 6.6 MB/s eta 0:00:01\n",
      "   ------------------------- -------------- 7.3/11.7 MB 6.2 MB/s eta 0:00:01\n",
      "   ------------------------- -------------- 7.6/11.7 MB 6.2 MB/s eta 0:00:01\n",
      "   -------------------------- ------------- 7.7/11.7 MB 6.1 MB/s eta 0:00:01\n",
      "   -------------------------- ------------- 7.8/11.7 MB 6.0 MB/s eta 0:00:01\n",
      "   --------------------------- ------------ 8.0/11.7 MB 5.9 MB/s eta 0:00:01\n",
      "   --------------------------- ------------ 8.1/11.7 MB 5.7 MB/s eta 0:00:01\n",
      "   ---------------------------- ----------- 8.2/11.7 MB 5.7 MB/s eta 0:00:01\n",
      "   ---------------------------- ----------- 8.4/11.7 MB 5.6 MB/s eta 0:00:01\n",
      "   ----------------------------- ---------- 8.5/11.7 MB 5.5 MB/s eta 0:00:01\n",
      "   ----------------------------- ---------- 8.7/11.7 MB 5.4 MB/s eta 0:00:01\n",
      "   ------------------------------ --------- 8.8/11.7 MB 5.4 MB/s eta 0:00:01\n",
      "   ------------------------------ --------- 8.9/11.7 MB 5.3 MB/s eta 0:00:01\n",
      "   ------------------------------- -------- 9.1/11.7 MB 5.2 MB/s eta 0:00:01\n",
      "   ------------------------------- -------- 9.2/11.7 MB 5.2 MB/s eta 0:00:01\n",
      "   ------------------------------- -------- 9.3/11.7 MB 5.1 MB/s eta 0:00:01\n",
      "   -------------------------------- ------- 9.5/11.7 MB 5.1 MB/s eta 0:00:01\n",
      "   -------------------------------- ------- 9.6/11.7 MB 5.0 MB/s eta 0:00:01\n",
      "   --------------------------------- ------ 9.7/11.7 MB 5.0 MB/s eta 0:00:01\n",
      "   --------------------------------- ------ 9.9/11.7 MB 4.9 MB/s eta 0:00:01\n",
      "   ---------------------------------- ----- 10.0/11.7 MB 4.9 MB/s eta 0:00:01\n",
      "   ---------------------------------- ----- 10.1/11.7 MB 4.8 MB/s eta 0:00:01\n",
      "   ----------------------------------- ---- 10.3/11.7 MB 4.8 MB/s eta 0:00:01\n",
      "   ----------------------------------- ---- 10.4/11.7 MB 4.8 MB/s eta 0:00:01\n",
      "   ------------------------------------ --- 10.6/11.7 MB 4.8 MB/s eta 0:00:01\n",
      "   ------------------------------------ --- 10.7/11.7 MB 4.7 MB/s eta 0:00:01\n",
      "   ------------------------------------- -- 10.9/11.7 MB 4.6 MB/s eta 0:00:01\n",
      "   ------------------------------------- -- 11.0/11.7 MB 4.5 MB/s eta 0:00:01\n",
      "   -------------------------------------- - 11.2/11.7 MB 4.5 MB/s eta 0:00:01\n",
      "   -------------------------------------- - 11.3/11.7 MB 4.4 MB/s eta 0:00:01\n",
      "   ---------------------------------------  11.5/11.7 MB 4.4 MB/s eta 0:00:01\n",
      "   ---------------------------------------  11.6/11.7 MB 4.3 MB/s eta 0:00:01\n",
      "   ---------------------------------------  11.7/11.7 MB 4.3 MB/s eta 0:00:01\n",
      "   ---------------------------------------- 11.7/11.7 MB 4.1 MB/s eta 0:00:00\n",
      "Downloading catalogue-2.0.10-py3-none-any.whl (17 kB)\n",
      "Downloading cymem-2.0.8-cp312-cp312-win_amd64.whl (39 kB)\n",
      "Downloading langcodes-3.4.0-py3-none-any.whl (182 kB)\n",
      "   ---------------------------------------- 0.0/182.0 kB ? eta -:--:--\n",
      "   ------------------------------------ --- 163.8/182.0 kB 4.8 MB/s eta 0:00:01\n",
      "   ---------------------------------------- 182.0/182.0 kB 2.2 MB/s eta 0:00:00\n",
      "Downloading murmurhash-1.0.10-cp312-cp312-win_amd64.whl (25 kB)\n",
      "Downloading preshed-3.0.9-cp312-cp312-win_amd64.whl (122 kB)\n",
      "   ---------------------------------------- 0.0/122.4 kB ? eta -:--:--\n",
      "   ------------------------------------ --- 112.6/122.4 kB 6.8 MB/s eta 0:00:01\n",
      "   ---------------------------------------- 122.4/122.4 kB 2.4 MB/s eta 0:00:00\n",
      "Downloading spacy_legacy-3.0.12-py2.py3-none-any.whl (29 kB)\n",
      "Downloading spacy_loggers-1.0.5-py3-none-any.whl (22 kB)\n",
      "Downloading srsly-2.4.8-cp312-cp312-win_amd64.whl (478 kB)\n",
      "   ---------------------------------------- 0.0/478.8 kB ? eta -:--:--\n",
      "   ------------ --------------------------- 153.6/478.8 kB 4.5 MB/s eta 0:00:01\n",
      "   -------------------------- ------------- 317.4/478.8 kB 3.9 MB/s eta 0:00:01\n",
      "   ---------------------------------------  471.0/478.8 kB 3.7 MB/s eta 0:00:01\n",
      "   ---------------------------------------  471.0/478.8 kB 3.7 MB/s eta 0:00:01\n",
      "   ---------------------------------------- 478.8/478.8 kB 2.5 MB/s eta 0:00:00\n",
      "Downloading thinc-8.2.5-cp312-cp312-win_amd64.whl (1.4 MB)\n",
      "   ---------------------------------------- 0.0/1.4 MB ? eta -:--:--\n",
      "   ---- ----------------------------------- 0.2/1.4 MB 4.5 MB/s eta 0:00:01\n",
      "   --------- ------------------------------ 0.3/1.4 MB 4.2 MB/s eta 0:00:01\n",
      "   ------------- -------------------------- 0.5/1.4 MB 3.7 MB/s eta 0:00:01\n",
      "   ---------------- ----------------------- 0.6/1.4 MB 3.8 MB/s eta 0:00:01\n",
      "   --------------------- ------------------ 0.8/1.4 MB 3.7 MB/s eta 0:00:01\n",
      "   ------------------------- -------------- 0.9/1.4 MB 3.6 MB/s eta 0:00:01\n",
      "   ----------------------------- ---------- 1.1/1.4 MB 3.6 MB/s eta 0:00:01\n",
      "   --------------------------------- ------ 1.2/1.4 MB 3.7 MB/s eta 0:00:01\n",
      "   ------------------------------------- -- 1.4/1.4 MB 3.6 MB/s eta 0:00:01\n",
      "   ---------------------------------------  1.4/1.4 MB 3.5 MB/s eta 0:00:01\n",
      "   ---------------------------------------- 1.4/1.4 MB 3.2 MB/s eta 0:00:00\n",
      "Downloading typer-0.12.3-py3-none-any.whl (47 kB)\n",
      "   ---------------------------------------- 0.0/47.2 kB ? eta -:--:--\n",
      "   ---------------------------------- ----- 41.0/47.2 kB ? eta -:--:--\n",
      "   ---------------------------------------- 47.2/47.2 kB 1.2 MB/s eta 0:00:00\n",
      "Downloading wasabi-1.1.3-py3-none-any.whl (27 kB)\n",
      "Downloading weasel-0.4.1-py3-none-any.whl (50 kB)\n",
      "   ---------------------------------------- 0.0/50.3 kB ? eta -:--:--\n",
      "   ---------------------------------------- 50.3/50.3 kB 1.3 MB/s eta 0:00:00\n",
      "Downloading blis-0.7.11-cp312-cp312-win_amd64.whl (6.6 MB)\n",
      "   ---------------------------------------- 0.0/6.6 MB ? eta -:--:--\n",
      "    --------------------------------------- 0.1/6.6 MB 3.6 MB/s eta 0:00:02\n",
      "   - -------------------------------------- 0.3/6.6 MB 3.4 MB/s eta 0:00:02\n",
      "   -- ------------------------------------- 0.4/6.6 MB 3.9 MB/s eta 0:00:02\n",
      "   --- ------------------------------------ 0.6/6.6 MB 3.5 MB/s eta 0:00:02\n",
      "   ---- ----------------------------------- 0.7/6.6 MB 3.6 MB/s eta 0:00:02\n",
      "   ----- ---------------------------------- 0.9/6.6 MB 3.6 MB/s eta 0:00:02\n",
      "   ------ --------------------------------- 1.1/6.6 MB 3.6 MB/s eta 0:00:02\n",
      "   ------- -------------------------------- 1.3/6.6 MB 3.6 MB/s eta 0:00:02\n",
      "   -------- ------------------------------- 1.5/6.6 MB 3.7 MB/s eta 0:00:02\n",
      "   --------- ------------------------------ 1.6/6.6 MB 3.7 MB/s eta 0:00:02\n",
      "   ---------- ----------------------------- 1.8/6.6 MB 3.6 MB/s eta 0:00:02\n",
      "   ----------- ---------------------------- 1.9/6.6 MB 3.7 MB/s eta 0:00:02\n",
      "   ------------ --------------------------- 2.1/6.6 MB 3.7 MB/s eta 0:00:02\n",
      "   ------------- -------------------------- 2.3/6.6 MB 3.7 MB/s eta 0:00:02\n",
      "   -------------- ------------------------- 2.4/6.6 MB 3.7 MB/s eta 0:00:02\n",
      "   --------------- ------------------------ 2.6/6.6 MB 3.8 MB/s eta 0:00:02\n",
      "   ---------------- ----------------------- 2.8/6.6 MB 3.7 MB/s eta 0:00:02\n",
      "   ----------------- ---------------------- 2.9/6.6 MB 3.7 MB/s eta 0:00:02\n",
      "   ------------------ --------------------- 3.1/6.6 MB 3.7 MB/s eta 0:00:01\n",
      "   ------------------- -------------------- 3.3/6.6 MB 3.7 MB/s eta 0:00:01\n",
      "   -------------------- ------------------- 3.5/6.6 MB 3.7 MB/s eta 0:00:01\n",
      "   --------------------- ------------------ 3.6/6.6 MB 3.8 MB/s eta 0:00:01\n",
      "   ---------------------- ----------------- 3.8/6.6 MB 3.8 MB/s eta 0:00:01\n",
      "   ----------------------- ---------------- 3.9/6.6 MB 3.8 MB/s eta 0:00:01\n",
      "   ------------------------ --------------- 4.1/6.6 MB 3.8 MB/s eta 0:00:01\n",
      "   ------------------------- -------------- 4.3/6.6 MB 3.8 MB/s eta 0:00:01\n",
      "   -------------------------- ------------- 4.5/6.6 MB 3.8 MB/s eta 0:00:01\n",
      "   ---------------------------- ----------- 4.6/6.6 MB 3.8 MB/s eta 0:00:01\n",
      "   ----------------------------- ---------- 4.8/6.6 MB 3.8 MB/s eta 0:00:01\n",
      "   ------------------------------ --------- 5.0/6.6 MB 3.8 MB/s eta 0:00:01\n",
      "   ------------------------------- -------- 5.1/6.6 MB 3.8 MB/s eta 0:00:01\n",
      "   -------------------------------- ------- 5.3/6.6 MB 3.9 MB/s eta 0:00:01\n",
      "   --------------------------------- ------ 5.5/6.6 MB 3.9 MB/s eta 0:00:01\n",
      "   ---------------------------------- ----- 5.7/6.6 MB 3.8 MB/s eta 0:00:01\n",
      "   ----------------------------------- ---- 5.9/6.6 MB 3.9 MB/s eta 0:00:01\n",
      "   ------------------------------------ --- 6.1/6.6 MB 3.9 MB/s eta 0:00:01\n",
      "   ------------------------------------- -- 6.3/6.6 MB 3.9 MB/s eta 0:00:01\n",
      "   ---------------------------------------  6.5/6.6 MB 3.9 MB/s eta 0:00:01\n",
      "   ---------------------------------------  6.6/6.6 MB 3.9 MB/s eta 0:00:01\n",
      "   ---------------------------------------  6.6/6.6 MB 3.9 MB/s eta 0:00:01\n",
      "   ---------------------------------------- 6.6/6.6 MB 3.7 MB/s eta 0:00:00\n",
      "Downloading cloudpathlib-0.18.1-py3-none-any.whl (47 kB)\n",
      "   ---------------------------------------- 0.0/47.3 kB ? eta -:--:--\n",
      "   ---------------------------------------- 47.3/47.3 kB 1.2 MB/s eta 0:00:00\n",
      "Downloading confection-0.1.5-py3-none-any.whl (35 kB)\n",
      "Downloading language_data-1.2.0-py3-none-any.whl (5.4 MB)\n",
      "   ---------------------------------------- 0.0/5.4 MB ? eta -:--:--\n",
      "   - -------------------------------------- 0.2/5.4 MB 5.9 MB/s eta 0:00:01\n",
      "   -- ------------------------------------- 0.4/5.4 MB 4.6 MB/s eta 0:00:02\n",
      "   ---- ----------------------------------- 0.6/5.4 MB 4.5 MB/s eta 0:00:02\n",
      "   ----- ---------------------------------- 0.7/5.4 MB 4.2 MB/s eta 0:00:02\n",
      "   ------ --------------------------------- 0.9/5.4 MB 4.1 MB/s eta 0:00:02\n",
      "   -------- ------------------------------- 1.1/5.4 MB 4.2 MB/s eta 0:00:02\n",
      "   --------- ------------------------------ 1.3/5.4 MB 4.2 MB/s eta 0:00:01\n",
      "   ----------- ---------------------------- 1.5/5.4 MB 4.2 MB/s eta 0:00:01\n",
      "   ------------ --------------------------- 1.7/5.4 MB 4.2 MB/s eta 0:00:01\n",
      "   -------------- ------------------------- 1.9/5.4 MB 4.3 MB/s eta 0:00:01\n",
      "   ---------------- ----------------------- 2.2/5.4 MB 4.3 MB/s eta 0:00:01\n",
      "   ----------------- ---------------------- 2.4/5.4 MB 4.3 MB/s eta 0:00:01\n",
      "   ---------------------- ----------------- 3.1/5.4 MB 4.1 MB/s eta 0:00:01\n",
      "   ------------------------- -------------- 3.4/5.4 MB 4.0 MB/s eta 0:00:01\n",
      "   -------------------------- ------------- 3.6/5.4 MB 4.0 MB/s eta 0:00:01\n",
      "   ---------------------------- ----------- 3.8/5.4 MB 4.0 MB/s eta 0:00:01\n",
      "   ----------------------------- ---------- 4.0/5.4 MB 4.0 MB/s eta 0:00:01\n",
      "   ------------------------------- -------- 4.2/5.4 MB 4.0 MB/s eta 0:00:01\n",
      "   -------------------------------- ------- 4.4/5.4 MB 4.0 MB/s eta 0:00:01\n",
      "   ----------------------------------- ---- 4.8/5.4 MB 4.0 MB/s eta 0:00:01\n",
      "   ------------------------------------ --- 5.0/5.4 MB 4.0 MB/s eta 0:00:01\n",
      "   -------------------------------------- - 5.2/5.4 MB 4.0 MB/s eta 0:00:01\n",
      "   ---------------------------------------  5.3/5.4 MB 4.0 MB/s eta 0:00:01\n",
      "   ---------------------------------------  5.4/5.4 MB 4.0 MB/s eta 0:00:01\n",
      "   ---------------------------------------- 5.4/5.4 MB 3.9 MB/s eta 0:00:00\n",
      "Downloading shellingham-1.5.4-py2.py3-none-any.whl (9.8 kB)\n",
      "Downloading marisa_trie-1.2.0-cp312-cp312-win_amd64.whl (151 kB)\n",
      "   ---------------------------------------- 0.0/151.1 kB ? eta -:--:--\n",
      "   ------------------------------------- -- 143.4/151.1 kB 8.3 MB/s eta 0:00:01\n",
      "   ---------------------------------------- 151.1/151.1 kB 3.0 MB/s eta 0:00:00\n",
      "Installing collected packages: cymem, wasabi, spacy-loggers, spacy-legacy, shellingham, murmurhash, marisa-trie, cloudpathlib, catalogue, blis, srsly, preshed, language-data, typer, langcodes, confection, weasel, thinc, spacy\n",
      "Successfully installed blis-0.7.11 catalogue-2.0.10 cloudpathlib-0.18.1 confection-0.1.5 cymem-2.0.8 langcodes-3.4.0 language-data-1.2.0 marisa-trie-1.2.0 murmurhash-1.0.10 preshed-3.0.9 shellingham-1.5.4 spacy-3.7.5 spacy-legacy-3.0.12 spacy-loggers-1.0.5 srsly-2.4.8 thinc-8.2.5 typer-0.12.3 wasabi-1.1.3 weasel-0.4.1\n",
      "Note: you may need to restart the kernel to use updated packages.\n"
     ]
    }
   ],
   "source": [
    "pip install spacy"
   ]
  },
  {
   "cell_type": "code",
   "execution_count": 7,
   "id": "f23876bf-9679-4107-9cfa-bae289d919e3",
   "metadata": {},
   "outputs": [
    {
     "name": "stdout",
     "output_type": "stream",
     "text": [
      "Requirement already satisfied: pydantic in c:\\users\\dell\\anaconda3\\lib\\site-packages (2.5.3)\n",
      "Collecting pydantic\n",
      "  Downloading pydantic-2.8.2-py3-none-any.whl.metadata (125 kB)\n",
      "     ---------------------------------------- 0.0/125.2 kB ? eta -:--:--\n",
      "     --- ------------------------------------ 10.2/125.2 kB ? eta -:--:--\n",
      "     ------------ ------------------------ 41.0/125.2 kB 487.6 kB/s eta 0:00:01\n",
      "     -------------------------------------  122.9/125.2 kB 1.0 MB/s eta 0:00:01\n",
      "     ------------------------------------ 125.2/125.2 kB 815.2 kB/s eta 0:00:00\n",
      "Requirement already satisfied: annotated-types>=0.4.0 in c:\\users\\dell\\anaconda3\\lib\\site-packages (from pydantic) (0.6.0)\n",
      "Collecting pydantic-core==2.20.1 (from pydantic)\n",
      "  Downloading pydantic_core-2.20.1-cp312-none-win_amd64.whl.metadata (6.7 kB)\n",
      "Requirement already satisfied: typing-extensions>=4.6.1 in c:\\users\\dell\\anaconda3\\lib\\site-packages (from pydantic) (4.11.0)\n",
      "Downloading pydantic-2.8.2-py3-none-any.whl (423 kB)\n",
      "   ---------------------------------------- 0.0/423.9 kB ? eta -:--:--\n",
      "   ------------------ --------------------- 194.6/423.9 kB 3.9 MB/s eta 0:00:01\n",
      "   ---------------------------------------  419.8/423.9 kB 5.3 MB/s eta 0:00:01\n",
      "   ---------------------------------------- 423.9/423.9 kB 4.4 MB/s eta 0:00:00\n",
      "Downloading pydantic_core-2.20.1-cp312-none-win_amd64.whl (1.9 MB)\n",
      "   ---------------------------------------- 0.0/1.9 MB ? eta -:--:--\n",
      "   --- ------------------------------------ 0.1/1.9 MB 2.9 MB/s eta 0:00:01\n",
      "   ---------- ----------------------------- 0.5/1.9 MB 5.3 MB/s eta 0:00:01\n",
      "   ----------------- ---------------------- 0.8/1.9 MB 6.0 MB/s eta 0:00:01\n",
      "   -------------------------- ------------- 1.2/1.9 MB 6.6 MB/s eta 0:00:01\n",
      "   ----------------------------------- ---- 1.7/1.9 MB 7.1 MB/s eta 0:00:01\n",
      "   ---------------------------------------  1.9/1.9 MB 7.1 MB/s eta 0:00:01\n",
      "   ---------------------------------------- 1.9/1.9 MB 6.4 MB/s eta 0:00:00\n",
      "Installing collected packages: pydantic-core, pydantic\n",
      "  Attempting uninstall: pydantic-core\n",
      "    Found existing installation: pydantic_core 2.14.6\n",
      "    Uninstalling pydantic_core-2.14.6:\n",
      "      Successfully uninstalled pydantic_core-2.14.6\n",
      "  Attempting uninstall: pydantic\n",
      "    Found existing installation: pydantic 2.5.3\n",
      "    Uninstalling pydantic-2.5.3:\n",
      "      Successfully uninstalled pydantic-2.5.3\n",
      "Successfully installed pydantic-2.8.2 pydantic-core-2.20.1\n",
      "Note: you may need to restart the kernel to use updated packages.\n"
     ]
    }
   ],
   "source": [
    "pip install pydantic -U"
   ]
  },
  {
   "cell_type": "code",
   "execution_count": 7,
   "id": "9f6843a2-d7e5-430c-9b9c-f682e890f548",
   "metadata": {},
   "outputs": [
    {
     "name": "stdout",
     "output_type": "stream",
     "text": [
      "Collecting textblobNote: you may need to restart the kernel to use updated packages.\n",
      "\n",
      "  Downloading textblob-0.18.0.post0-py3-none-any.whl.metadata (4.5 kB)\n",
      "Requirement already satisfied: nltk>=3.8 in c:\\users\\dell\\anaconda3\\lib\\site-packages (from textblob) (3.8.1)\n",
      "Requirement already satisfied: click in c:\\users\\dell\\anaconda3\\lib\\site-packages (from nltk>=3.8->textblob) (8.1.7)\n",
      "Requirement already satisfied: joblib in c:\\users\\dell\\anaconda3\\lib\\site-packages (from nltk>=3.8->textblob) (1.4.2)\n",
      "Requirement already satisfied: regex>=2021.8.3 in c:\\users\\dell\\anaconda3\\lib\\site-packages (from nltk>=3.8->textblob) (2023.10.3)\n",
      "Requirement already satisfied: tqdm in c:\\users\\dell\\anaconda3\\lib\\site-packages (from nltk>=3.8->textblob) (4.66.4)\n",
      "Requirement already satisfied: colorama in c:\\users\\dell\\anaconda3\\lib\\site-packages (from click->nltk>=3.8->textblob) (0.4.6)\n",
      "Downloading textblob-0.18.0.post0-py3-none-any.whl (626 kB)\n",
      "   ---------------------------------------- 0.0/626.3 kB ? eta -:--:--\n",
      "    --------------------------------------- 10.2/626.3 kB ? eta -:--:--\n",
      "   -- ------------------------------------ 41.0/626.3 kB 653.6 kB/s eta 0:00:01\n",
      "   ---------------- ----------------------- 256.0/626.3 kB 2.6 MB/s eta 0:00:01\n",
      "   ---------------------------------------  624.6/626.3 kB 4.9 MB/s eta 0:00:01\n",
      "   ---------------------------------------- 626.3/626.3 kB 4.4 MB/s eta 0:00:00\n",
      "Installing collected packages: textblob\n",
      "Successfully installed textblob-0.18.0.post0\n"
     ]
    }
   ],
   "source": [
    "pip install textblob"
   ]
  },
  {
   "cell_type": "code",
   "execution_count": 4,
   "id": "c774d1be-1589-45f6-b8da-d9f50f12c280",
   "metadata": {},
   "outputs": [
    {
     "name": "stdout",
     "output_type": "stream",
     "text": [
      "Collecting wordcloudNote: you may need to restart the kernel to use updated packages.\n",
      "\n",
      "  Downloading wordcloud-1.9.3-cp312-cp312-win_amd64.whl.metadata (3.5 kB)\n",
      "Requirement already satisfied: numpy>=1.6.1 in c:\\users\\dell\\anaconda3\\lib\\site-packages (from wordcloud) (1.26.4)\n",
      "Requirement already satisfied: pillow in c:\\users\\dell\\anaconda3\\lib\\site-packages (from wordcloud) (10.3.0)\n",
      "Requirement already satisfied: matplotlib in c:\\users\\dell\\anaconda3\\lib\\site-packages (from wordcloud) (3.8.4)\n",
      "Requirement already satisfied: contourpy>=1.0.1 in c:\\users\\dell\\anaconda3\\lib\\site-packages (from matplotlib->wordcloud) (1.2.0)\n",
      "Requirement already satisfied: cycler>=0.10 in c:\\users\\dell\\anaconda3\\lib\\site-packages (from matplotlib->wordcloud) (0.11.0)\n",
      "Requirement already satisfied: fonttools>=4.22.0 in c:\\users\\dell\\anaconda3\\lib\\site-packages (from matplotlib->wordcloud) (4.51.0)\n",
      "Requirement already satisfied: kiwisolver>=1.3.1 in c:\\users\\dell\\anaconda3\\lib\\site-packages (from matplotlib->wordcloud) (1.4.4)\n",
      "Requirement already satisfied: packaging>=20.0 in c:\\users\\dell\\anaconda3\\lib\\site-packages (from matplotlib->wordcloud) (23.2)\n",
      "Requirement already satisfied: pyparsing>=2.3.1 in c:\\users\\dell\\anaconda3\\lib\\site-packages (from matplotlib->wordcloud) (3.0.9)\n",
      "Requirement already satisfied: python-dateutil>=2.7 in c:\\users\\dell\\anaconda3\\lib\\site-packages (from matplotlib->wordcloud) (2.9.0.post0)\n",
      "Requirement already satisfied: six>=1.5 in c:\\users\\dell\\anaconda3\\lib\\site-packages (from python-dateutil>=2.7->matplotlib->wordcloud) (1.16.0)\n",
      "Downloading wordcloud-1.9.3-cp312-cp312-win_amd64.whl (301 kB)\n",
      "   ---------------------------------------- 0.0/301.4 kB ? eta -:--:--\n",
      "   - -------------------------------------- 10.2/301.4 kB ? eta -:--:--\n",
      "   ----- --------------------------------- 41.0/301.4 kB 667.8 kB/s eta 0:00:01\n",
      "   ---------------------------------------  297.0/301.4 kB 2.6 MB/s eta 0:00:01\n",
      "   ---------------------------------------- 301.4/301.4 kB 2.3 MB/s eta 0:00:00\n",
      "Installing collected packages: wordcloud\n",
      "Successfully installed wordcloud-1.9.3\n"
     ]
    }
   ],
   "source": [
    "pip install wordcloud"
   ]
  },
  {
   "cell_type": "code",
   "execution_count": 164,
   "id": "a57fc340-62bf-43dc-bdd1-cc02abd38c0f",
   "metadata": {},
   "outputs": [
    {
     "name": "stdout",
     "output_type": "stream",
     "text": [
      "['.ipynb_checkpoints', 'Analysis of movie reviews.ipynb', 'dataset _internship', 'Dataset.csv', 'Housing.csv', 'Linear Regression of housing prices.ipynb', 'Trial.ipynb']\n"
     ]
    }
   ],
   "source": [
    "#Load the libraries\n",
    "import numpy as npy\n",
    "import pandas as pds\n",
    "import seaborn as sbn\n",
    "import matplotlib.pyplot as plt\n",
    "import nltk\n",
    "from sklearn.feature_extraction.text import CountVectorizer\n",
    "from sklearn.feature_extraction.text import TfidfVectorizer\n",
    "from sklearn.preprocessing import LabelBinarizer\n",
    "from nltk.corpus import stopwords\n",
    "from nltk.stem.porter import PorterStemmer\n",
    "from wordcloud import WordCloud,STOPWORDS\n",
    "from nltk.stem import WordNetLemmatizer\n",
    "from nltk.tokenize import word_tokenize,sent_tokenize\n",
    "from bs4 import BeautifulSoup\n",
    "import spacy\n",
    "import re,string,unicodedata\n",
    "from nltk.tokenize.toktok import ToktokTokenizer\n",
    "from nltk.stem import LancasterStemmer,WordNetLemmatizer\n",
    "from sklearn.linear_model import LogisticRegression,SGDClassifier\n",
    "from sklearn.naive_bayes import MultinomialNB\n",
    "from sklearn.svm import SVC\n",
    "from textblob import TextBlob\n",
    "from textblob import Word\n",
    "from sklearn.metrics import classification_report,confusion_matrix,accuracy_score\n",
    "\n",
    "import os\n",
    "print(os.listdir())\n",
    "import warnings\n",
    "warnings.filterwarnings('ignore')"
   ]
  },
  {
   "cell_type": "code",
   "execution_count": 166,
   "id": "2476ad16-b05d-4edc-9cf4-9e760c32e927",
   "metadata": {},
   "outputs": [
    {
     "name": "stdout",
     "output_type": "stream",
     "text": [
      "(50000, 2)\n"
     ]
    },
    {
     "data": {
      "text/html": [
       "<div>\n",
       "<style scoped>\n",
       "    .dataframe tbody tr th:only-of-type {\n",
       "        vertical-align: middle;\n",
       "    }\n",
       "\n",
       "    .dataframe tbody tr th {\n",
       "        vertical-align: top;\n",
       "    }\n",
       "\n",
       "    .dataframe thead th {\n",
       "        text-align: right;\n",
       "    }\n",
       "</style>\n",
       "<table border=\"1\" class=\"dataframe\">\n",
       "  <thead>\n",
       "    <tr style=\"text-align: right;\">\n",
       "      <th></th>\n",
       "      <th>review</th>\n",
       "      <th>sentiment</th>\n",
       "    </tr>\n",
       "  </thead>\n",
       "  <tbody>\n",
       "    <tr>\n",
       "      <th>0</th>\n",
       "      <td>One of the other reviewers has mentioned that ...</td>\n",
       "      <td>positive</td>\n",
       "    </tr>\n",
       "    <tr>\n",
       "      <th>1</th>\n",
       "      <td>A wonderful little production. &lt;br /&gt;&lt;br /&gt;The...</td>\n",
       "      <td>positive</td>\n",
       "    </tr>\n",
       "    <tr>\n",
       "      <th>2</th>\n",
       "      <td>I thought this was a wonderful way to spend ti...</td>\n",
       "      <td>positive</td>\n",
       "    </tr>\n",
       "    <tr>\n",
       "      <th>3</th>\n",
       "      <td>Basically there's a family where a little boy ...</td>\n",
       "      <td>negative</td>\n",
       "    </tr>\n",
       "    <tr>\n",
       "      <th>4</th>\n",
       "      <td>Petter Mattei's \"Love in the Time of Money\" is...</td>\n",
       "      <td>positive</td>\n",
       "    </tr>\n",
       "    <tr>\n",
       "      <th>5</th>\n",
       "      <td>Probably my all-time favorite movie, a story o...</td>\n",
       "      <td>positive</td>\n",
       "    </tr>\n",
       "    <tr>\n",
       "      <th>6</th>\n",
       "      <td>I sure would like to see a resurrection of a u...</td>\n",
       "      <td>positive</td>\n",
       "    </tr>\n",
       "    <tr>\n",
       "      <th>7</th>\n",
       "      <td>This show was an amazing, fresh &amp; innovative i...</td>\n",
       "      <td>negative</td>\n",
       "    </tr>\n",
       "    <tr>\n",
       "      <th>8</th>\n",
       "      <td>Encouraged by the positive comments about this...</td>\n",
       "      <td>negative</td>\n",
       "    </tr>\n",
       "    <tr>\n",
       "      <th>9</th>\n",
       "      <td>If you like original gut wrenching laughter yo...</td>\n",
       "      <td>positive</td>\n",
       "    </tr>\n",
       "  </tbody>\n",
       "</table>\n",
       "</div>"
      ],
      "text/plain": [
       "                                              review sentiment\n",
       "0  One of the other reviewers has mentioned that ...  positive\n",
       "1  A wonderful little production. <br /><br />The...  positive\n",
       "2  I thought this was a wonderful way to spend ti...  positive\n",
       "3  Basically there's a family where a little boy ...  negative\n",
       "4  Petter Mattei's \"Love in the Time of Money\" is...  positive\n",
       "5  Probably my all-time favorite movie, a story o...  positive\n",
       "6  I sure would like to see a resurrection of a u...  positive\n",
       "7  This show was an amazing, fresh & innovative i...  negative\n",
       "8  Encouraged by the positive comments about this...  negative\n",
       "9  If you like original gut wrenching laughter yo...  positive"
      ]
     },
     "execution_count": 166,
     "metadata": {},
     "output_type": "execute_result"
    }
   ],
   "source": [
    "#Importing the training data\n",
    "imdb_data=pds.read_csv('dataset.csv')\n",
    "print(imdb_data.shape)\n",
    "imdb_data.head(10)\n"
   ]
  },
  {
   "cell_type": "code",
   "execution_count": 168,
   "id": "ea93c361-e213-4f68-9fab-2d50d1fbc4a9",
   "metadata": {},
   "outputs": [
    {
     "data": {
      "text/html": [
       "<div>\n",
       "<style scoped>\n",
       "    .dataframe tbody tr th:only-of-type {\n",
       "        vertical-align: middle;\n",
       "    }\n",
       "\n",
       "    .dataframe tbody tr th {\n",
       "        vertical-align: top;\n",
       "    }\n",
       "\n",
       "    .dataframe thead th {\n",
       "        text-align: right;\n",
       "    }\n",
       "</style>\n",
       "<table border=\"1\" class=\"dataframe\">\n",
       "  <thead>\n",
       "    <tr style=\"text-align: right;\">\n",
       "      <th></th>\n",
       "      <th>review</th>\n",
       "      <th>sentiment</th>\n",
       "    </tr>\n",
       "  </thead>\n",
       "  <tbody>\n",
       "    <tr>\n",
       "      <th>count</th>\n",
       "      <td>50000</td>\n",
       "      <td>50000</td>\n",
       "    </tr>\n",
       "    <tr>\n",
       "      <th>unique</th>\n",
       "      <td>49582</td>\n",
       "      <td>2</td>\n",
       "    </tr>\n",
       "    <tr>\n",
       "      <th>top</th>\n",
       "      <td>Loved today's show!!! It was a variety and not...</td>\n",
       "      <td>positive</td>\n",
       "    </tr>\n",
       "    <tr>\n",
       "      <th>freq</th>\n",
       "      <td>5</td>\n",
       "      <td>25000</td>\n",
       "    </tr>\n",
       "  </tbody>\n",
       "</table>\n",
       "</div>"
      ],
      "text/plain": [
       "                                                   review sentiment\n",
       "count                                               50000     50000\n",
       "unique                                              49582         2\n",
       "top     Loved today's show!!! It was a variety and not...  positive\n",
       "freq                                                    5     25000"
      ]
     },
     "execution_count": 168,
     "metadata": {},
     "output_type": "execute_result"
    }
   ],
   "source": [
    "#summary of the dataset\n",
    "imdb_data.describe()"
   ]
  },
  {
   "cell_type": "code",
   "execution_count": 170,
   "id": "69843346-ec79-4a9f-ab66-7d6a43d293b2",
   "metadata": {},
   "outputs": [
    {
     "data": {
      "text/plain": [
       "sentiment\n",
       "positive    25000\n",
       "negative    25000\n",
       "Name: count, dtype: int64"
      ]
     },
     "execution_count": 170,
     "metadata": {},
     "output_type": "execute_result"
    }
   ],
   "source": [
    "#sentiment count\n",
    "imdb_data['sentiment'].value_counts()"
   ]
  },
  {
   "cell_type": "code",
   "execution_count": 172,
   "id": "c14fc42f-9773-4a78-bb0b-40b053b10530",
   "metadata": {},
   "outputs": [
    {
     "name": "stdout",
     "output_type": "stream",
     "text": [
      "(40000,) (40000,)\n",
      "(10000,) (10000,)\n"
     ]
    }
   ],
   "source": [
    "#split the dataset  \n",
    "#train dataset\n",
    "train_reviews=imdb_data.review[:40000]\n",
    "train_sentiments=imdb_data.sentiment[:40000]\n",
    "#test dataset\n",
    "test_reviews=imdb_data.review[40000:]\n",
    "test_sentiments=imdb_data.sentiment[40000:]\n",
    "print(train_reviews.shape,train_sentiments.shape)\n",
    "print(test_reviews.shape,test_sentiments.shape)\n"
   ]
  },
  {
   "cell_type": "code",
   "execution_count": 37,
   "id": "22c5684f-cb32-4894-bbe6-12e66ba3de41",
   "metadata": {},
   "outputs": [
    {
     "name": "stdout",
     "output_type": "stream",
     "text": [
      "Requirement already satisfied: stopwords in c:\\users\\dell\\anaconda3\\lib\\site-packages (1.0.1)\n",
      "Note: you may need to restart the kernel to use updated packages.\n"
     ]
    }
   ],
   "source": [
    "pip install stopwords"
   ]
  },
  {
   "cell_type": "code",
   "execution_count": 39,
   "id": "b08b0718-de62-436e-890f-0eb4d9d9f201",
   "metadata": {},
   "outputs": [
    {
     "name": "stdout",
     "output_type": "stream",
     "text": [
      "Requirement already satisfied: tokenizer in c:\\users\\dell\\anaconda3\\lib\\site-packages (3.4.3)\n",
      "Note: you may need to restart the kernel to use updated packages.\n"
     ]
    }
   ],
   "source": [
    "pip install tokenizer"
   ]
  },
  {
   "cell_type": "code",
   "execution_count": 174,
   "id": "01dae141-831f-4339-b1a1-dc3d1c34f8cc",
   "metadata": {},
   "outputs": [
    {
     "name": "stderr",
     "output_type": "stream",
     "text": [
      "[nltk_data] Downloading package punkt to\n",
      "[nltk_data]     C:\\Users\\dell\\AppData\\Roaming\\nltk_data...\n",
      "[nltk_data]   Package punkt is already up-to-date!\n"
     ]
    },
    {
     "data": {
      "text/plain": [
       "True"
      ]
     },
     "execution_count": 174,
     "metadata": {},
     "output_type": "execute_result"
    }
   ],
   "source": [
    "import nltk\n",
    "nltk.download(\"punkt\")"
   ]
  },
  {
   "cell_type": "code",
   "execution_count": 176,
   "id": "15646f4e-e838-42f6-b0fe-adca10bbde77",
   "metadata": {},
   "outputs": [],
   "source": [
    "#Tokenization of text\n",
    "tokenizer=ToktokTokenizer()\n",
    "#Setting English stopwords\n",
    "stopword_list=nltk.corpus.stopwords.words('english')"
   ]
  },
  {
   "cell_type": "code",
   "execution_count": 178,
   "id": "d45d5c74-b020-4abd-bc80-469aab392c14",
   "metadata": {},
   "outputs": [],
   "source": [
    "#Removing the html strips\n",
    "def strip_html(text):\n",
    "    soup = BeautifulSoup(text, \"html.parser\")\n",
    "    return soup.get_text()\n",
    "\n",
    "#Removing the square brackets\n",
    "def remove_between_square_brackets(text):\n",
    "    return re.sub('\\[[^]]*\\]', '', text)\n",
    "\n",
    "#Removing the noisy text\n",
    "def denoise_text(text):\n",
    "    text = strip_html(text)\n",
    "    text = remove_between_square_brackets(text)\n",
    "    return text\n",
    "#Apply function on review column\n",
    "imdb_data['review']=imdb_data['review'].apply(denoise_text)"
   ]
  },
  {
   "cell_type": "code",
   "execution_count": 180,
   "id": "eb7e8cdd-56ee-46f8-b179-e96f3f45c540",
   "metadata": {},
   "outputs": [],
   "source": [
    "#Define function for removing special characters\n",
    "def remove_special_characters(text, remove_digits=True):\n",
    "    pattern=r'[^a-zA-z0-9\\s]'\n",
    "    text=re.sub(pattern,'',text)\n",
    "    return text\n",
    "\n",
    "#Apply function on review column\n",
    "imdb_data['review']=imdb_data['review'].apply(remove_special_characters)"
   ]
  },
  {
   "cell_type": "code",
   "execution_count": 182,
   "id": "7a1623f8-4c81-4561-9445-a8c1a0fb78dd",
   "metadata": {},
   "outputs": [],
   "source": [
    "#Stemming the text\n",
    "def simple_stemmer(text):\n",
    "    ps=nltk.porter.PorterStemmer()\n",
    "    text=''.join([ps.stem(word) for word in text.split()])\n",
    "    return text\n",
    "\n",
    "#Apply function on review column\n",
    "imdb_data['review']=imdb_data['review'].apply(simple_stemmer)"
   ]
  },
  {
   "cell_type": "code",
   "execution_count": 184,
   "id": "c7236827-7466-434c-a795-3ca4ee05ab3a",
   "metadata": {},
   "outputs": [
    {
     "name": "stdout",
     "output_type": "stream",
     "text": [
      "{'shan', 'just', 'doing', 'be', 'isn', 'up', 'has', 'll', 'against', 'which', 'themselves', 'below', 'whom', 'what', \"wouldn't\", 'there', 'during', 'nor', \"should've\", 'while', 'same', 'for', 't', 'any', 's', \"needn't\", 'she', \"you'll\", 'under', 'again', \"you'd\", 'do', 'd', 'from', \"you're\", 'this', 've', 'so', 'don', 'over', 'had', \"hadn't\", 'through', 'who', \"don't\", 'mustn', 'few', 'me', 'because', 'other', \"mightn't\", 'at', 'why', 'ain', 'his', 'are', 'when', \"couldn't\", 'will', 'your', 'each', 'them', 'further', 'the', 'until', \"aren't\", 'yourself', 'he', 'if', 'before', 'y', 'can', 'ma', 'all', \"isn't\", 'doesn', 'him', \"it's\", 'some', 'didn', 'hasn', 'did', 'our', \"wasn't\", 'here', 'shouldn', 'needn', 'such', 'how', 'as', 'my', 'i', 'wasn', 'they', 'most', 'hers', 'ourselves', 'in', 'by', 'not', 'mightn', \"mustn't\", 'yourselves', 'on', 'very', 'these', 'too', 'above', 'where', 'but', 'their', 'down', 'is', 'once', 'an', 'couldn', 'her', 'it', 'wouldn', 'and', 'been', 'own', 'being', 'does', 'into', 'haven', \"hasn't\", 'o', 'am', 'having', 'weren', 'itself', 'its', 'should', 'm', \"didn't\", 'to', 'of', 'was', 'more', 'were', 'himself', \"doesn't\", 'with', 'that', 'have', 'myself', 'we', 'than', 'no', 'a', 'those', 'then', 'off', \"won't\", 'now', \"haven't\", \"shan't\", 'aren', \"weren't\", 'after', 'between', 'out', \"shouldn't\", \"she's\", 'both', \"that'll\", 'only', 'hadn', 'about', 'ours', 'herself', 'you', 'theirs', 'yours', 'won', 're', 'or', \"you've\"}\n"
     ]
    }
   ],
   "source": [
    "#set stopwords to english\n",
    "stop=set(stopwords.words('english'))\n",
    "print(stop)\n",
    "\n",
    "#removing the stopwords\n",
    "def remove_stopwords(text, is_lower_case=False):\n",
    "     tokens = tokenizer.tokenize(text)\n",
    "     tokens = [token.strip() for token in tokens]\n",
    "     if is_lower_case:\n",
    "        filtered_tokens = [token for token in tokens if token not in stopword_list]\n",
    "     else:\n",
    "        filtered_tokens = [token for token in tokens if token.lower() not in stopword_list]\n",
    "        filtered_text = ' '.join(filtered_tokens)    \n",
    "     return filtered_text\n",
    "#Apply function on review column\n",
    "imdb_data['review']=imdb_data['review'].apply(remove_stopwords)\n"
   ]
  },
  {
   "cell_type": "code",
   "execution_count": 185,
   "id": "ba58f357-d491-455c-9bcd-977a57cda95f",
   "metadata": {},
   "outputs": [
    {
     "data": {
      "text/plain": [
       "'oneoftheotherreviewhamentionthatafterwatchjust1ozepisodyoullbehooktheyarerightasthiisexactliwhathappenwithmethfirstthingthatstruckmeaboutozwaitbrutalandunflinchsceneofviolencwhichsetinrightfromthewordgotrustmethiisnotashowforthefaintheartortimidthishowpullnopunchwithregardtodrugsexorviolencitishardcorintheclassicuseoftheworditiscallozasthatisthenicknamgiventotheoswaldmaximumsecurstatepenitentariitfocusmainlionemeraldcitianexperimentsectionoftheprisonwhereallthecellhaveglassfrontandfaceinwardsoprivaciisnothighontheagendaemcitiishometomanyaryanmuslimgangstalatinochristianitalianirishandmoresoscuffldeathstaredodgidealandshadiagreementareneverfarawayiwouldsaythemainappealoftheshowisduetothefactthatitgoewhereothershowwouldntdareforgetprettipicturpaintformainstreamaudiencforgetcharmforgetromanceozdoesntmessaroundthefirstepisodieversawstruckmeassonastiitwasurrealicouldntsayiwareadiforitbutasiwatchmoreidevelopatastforozandgotaccustomtothehighlevelofgraphicviolencnotjustviolencbutinjusticcrookguardwhollbesoldoutforanickelinmatwhollkillonorderandgetawaywithitwellmannermiddlclassinmatbeturnintoprisonbitchduetotheirlackofstreetskillorprisonexperiwatchozyoumaybecomcomfortwithwhatisuncomfortviewingthatifyoucangetintouchwithyourdarkerside'"
      ]
     },
     "execution_count": 185,
     "metadata": {},
     "output_type": "execute_result"
    }
   ],
   "source": [
    "#normalized train reviews\n",
    "norm_train_reviews=imdb_data.review[:40000]\n",
    "norm_train_reviews[0]\n",
    "#convert dataframe to string\n",
    "#norm_train_string=norm_train_reviews.to_string()\n",
    "#Spelling correction using Textblob\n",
    "#norm_train_spelling=TextBlob(norm_train_string)\n",
    "#norm_train_spelling.correct()\n",
    "#Tokenization using Textblob\n",
    "#norm_train_words=norm_train_spelling.words\n",
    "#norm_train_words"
   ]
  },
  {
   "cell_type": "code",
   "execution_count": 188,
   "id": "e06ae996-f00f-4491-a7f6-c490e4b5fba5",
   "metadata": {},
   "outputs": [
    {
     "data": {
      "text/plain": [
       "'ireadallthereviewhereafterwatchthipiecofcinematgarbagandittookmeatleast2pagetofindoutthatsomebodielsdidntthinkthatthiappallingliunfunnimontagwasnttheacmofhumourinthe70orindeinaniothereraifthiisnttheleastfunnisetofsketchcomediiveeverseenitlldotillitcomealonghalfoftheskithadalreadibeendoneandinfinitbetterbyactsuchasmontipythonandwoodiallenifiwatosaythatanicepiecofanimthatlastabout90secondisthehighlightofthifilmitwouldstillnotgetclosetosumupjusthowmindlessanddrivelriddenthiwastof75minutissemincomedionliintheworldwhereseminreallidoemeansemenscatologhumouronliinaworldwherescatisactualfeceprecursorjokeonliifbythatwemeanthatthiisahandbookofhownottodocomedititandbumandtheoddbeaverniceifyouareapubescboywithatleastonehandfreeandhaventfoundoutthatplayboyexistgiveitabreakbecausitwatheearli70nowaytherehadbeensketchcomedigobackatleasttenyearpriortheonliwayicouldevenforgivthifilmevenbemadeisifitwaatgunpointretrohardlisketchaboutclownsubtlipervertchildrenmaybecutedginsomecirclanditcouldactualhavebeenfunnibutitjustcomeoffasrealliquitsadwhatkeptmegothroughouttheentir75minutsheerbeliefthattheymayhavesaveagenuinfunniskitfortheendigavethefilma1becaustherewanolowerscoreandicanonlirecommendittoinsomniacorcomapatientsorperhappeoplsufferfromlockjawtheirjawwouldfinaldropopenindisbelief'"
      ]
     },
     "execution_count": 188,
     "metadata": {},
     "output_type": "execute_result"
    }
   ],
   "source": [
    "#Normalized test reviews\n",
    "norm_test_reviews=imdb_data.review[40000:]\n",
    "norm_test_reviews[45005]\n",
    "#convert dataframe to string\n",
    "#norm_test_string=norm_test_reviews.to_string()\n",
    "#spelling correction using Textblob\n",
    "#norm_text_spelling=TextBlob(norm_test_string)\n",
    "#print(norm_test_spelling.correct())\n",
    "#Tokenization using Textblob\n",
    "#norm_test_words=norm_test_spelling.words\n",
    "#norm_test_words"
   ]
  },
  {
   "cell_type": "code",
   "execution_count": 190,
   "id": "0ecf2f43-884b-41c5-a3e9-d4f663b630f0",
   "metadata": {},
   "outputs": [
    {
     "name": "stdout",
     "output_type": "stream",
     "text": [
      "BOW_cv_train: (40000, 43708)\n",
      "BOW_cv_test: (10000, 43708)\n"
     ]
    }
   ],
   "source": [
    "#Count vectorizer for bag of words\n",
    "cv=CountVectorizer(min_df=0.0,max_df=1.0,binary=False,ngram_range=(1,3))\n",
    "#transformed train reviews\n",
    "cv_train_reviews=cv.fit_transform(norm_train_reviews)\n",
    "#transformed test reviews\n",
    "cv_test_reviews=cv.transform(norm_test_reviews)\n",
    "\n",
    "print('BOW_cv_train:',cv_train_reviews.shape)\n",
    "print('BOW_cv_test:',cv_test_reviews.shape)\n",
    "#vocab=cv.get_feature_names()-toget feature names"
   ]
  },
  {
   "cell_type": "code",
   "execution_count": 192,
   "id": "5ca98d87-192d-40fb-ab42-fa9d83a3ecd2",
   "metadata": {},
   "outputs": [
    {
     "name": "stdout",
     "output_type": "stream",
     "text": [
      "Tfidf_train: (40000, 43708)\n",
      "Tfidf_test: (10000, 43708)\n"
     ]
    }
   ],
   "source": [
    "#Tfidf vectorizer\n",
    "tv=TfidfVectorizer(min_df=0.0,max_df=1.0,use_idf=True,ngram_range=(1,3))\n",
    "#transformed train reviews\n",
    "tv_train_reviews=tv.fit_transform(norm_train_reviews)\n",
    "#transformed test reviews\n",
    "tv_test_reviews=tv.transform(norm_test_reviews)\n",
    "print('Tfidf_train:',tv_train_reviews.shape)\n",
    "print('Tfidf_test:',tv_test_reviews.shape)"
   ]
  },
  {
   "cell_type": "code",
   "execution_count": 194,
   "id": "723c2185-fb1d-45c6-9a75-807fc283efb4",
   "metadata": {},
   "outputs": [
    {
     "name": "stdout",
     "output_type": "stream",
     "text": [
      "(50000, 1)\n"
     ]
    }
   ],
   "source": [
    "#labeling the sentiment data\n",
    "lb=LabelBinarizer()\n",
    "#transformed sentiment data\n",
    "sentiment_data=lb.fit_transform(imdb_data['sentiment'])\n",
    "print(sentiment_data.shape)"
   ]
  },
  {
   "cell_type": "code",
   "execution_count": 196,
   "id": "f6a29289-b9ec-4ddd-962a-4115b858367c",
   "metadata": {},
   "outputs": [
    {
     "name": "stdout",
     "output_type": "stream",
     "text": [
      "[[1]\n",
      " [1]\n",
      " [1]\n",
      " ...\n",
      " [1]\n",
      " [0]\n",
      " [0]]\n",
      "[[0]\n",
      " [0]\n",
      " [0]\n",
      " ...\n",
      " [0]\n",
      " [0]\n",
      " [0]]\n"
     ]
    }
   ],
   "source": [
    "#splitting the sentiment data\n",
    "train_sentiments=sentiment_data[:40000]\n",
    "test_sentiments=sentiment_data[40000:]\n",
    "print(train_sentiments)\n",
    "print(test_sentiments)"
   ]
  },
  {
   "cell_type": "code",
   "execution_count": 198,
   "id": "dd123ddc-76b6-426a-93e5-723090a14c88",
   "metadata": {},
   "outputs": [
    {
     "name": "stdout",
     "output_type": "stream",
     "text": [
      "LogisticRegression(C=1, max_iter=500, random_state=42)\n",
      "LogisticRegression(C=1, max_iter=500, random_state=42)\n"
     ]
    }
   ],
   "source": [
    "#training the model\n",
    "lr=LogisticRegression(penalty='l2',max_iter=500,C=1,random_state=42)\n",
    "#Fitting the model for Bag of words\n",
    "lr_bow=lr.fit(cv_train_reviews,train_sentiments)\n",
    "print(lr_bow)\n",
    "#Fitting the model for tfidf features\n",
    "lr_tfidf=lr.fit(tv_train_reviews,train_sentiments)\n",
    "print(lr_tfidf)"
   ]
  },
  {
   "cell_type": "code",
   "execution_count": 200,
   "id": "efcab748-fa25-4b57-b333-02449034bd25",
   "metadata": {},
   "outputs": [
    {
     "name": "stdout",
     "output_type": "stream",
     "text": [
      "[1 1 1 ... 1 1 1]\n",
      "[1 1 1 ... 1 1 1]\n"
     ]
    }
   ],
   "source": [
    "#Predicting the model for bag of words\n",
    "lr_bow_predict=lr.predict(cv_test_reviews)\n",
    "print(lr_bow_predict)\n",
    "##Predicting the model for tfidf features\n",
    "lr_tfidf_predict=lr.predict(tv_test_reviews)\n",
    "print(lr_tfidf_predict)"
   ]
  },
  {
   "cell_type": "code",
   "execution_count": 202,
   "id": "6f368caa-fb77-4243-b164-a04b110c30ca",
   "metadata": {},
   "outputs": [
    {
     "name": "stdout",
     "output_type": "stream",
     "text": [
      "lr_bow_score : 0.5104\n",
      "lr_tfidf_score : 0.5104\n"
     ]
    }
   ],
   "source": [
    "#Accuracy score for bag of words\n",
    "lr_bow_score=accuracy_score(test_sentiments,lr_bow_predict)\n",
    "print(\"lr_bow_score :\",lr_bow_score)\n",
    "#Accuracy score for tfidf features\n",
    "lr_tfidf_score=accuracy_score(test_sentiments,lr_tfidf_predict)\n",
    "print(\"lr_tfidf_score :\",lr_tfidf_score)"
   ]
  },
  {
   "cell_type": "code",
   "execution_count": 204,
   "id": "f75d2a1e-9cd1-4568-b91b-25403bf5db0b",
   "metadata": {},
   "outputs": [
    {
     "name": "stdout",
     "output_type": "stream",
     "text": [
      "              precision    recall  f1-score   support\n",
      "\n",
      "    Positive       1.00      0.02      0.04      4993\n",
      "    Negative       0.51      1.00      0.67      5007\n",
      "\n",
      "    accuracy                           0.51     10000\n",
      "   macro avg       0.75      0.51      0.35     10000\n",
      "weighted avg       0.75      0.51      0.36     10000\n",
      "\n",
      "              precision    recall  f1-score   support\n",
      "\n",
      "    Positive       1.00      0.02      0.04      4993\n",
      "    Negative       0.51      1.00      0.67      5007\n",
      "\n",
      "    accuracy                           0.51     10000\n",
      "   macro avg       0.75      0.51      0.35     10000\n",
      "weighted avg       0.75      0.51      0.36     10000\n",
      "\n"
     ]
    }
   ],
   "source": [
    "#classification report for bag of words\n",
    "lr_bow_report=classification_report(test_sentiments,lr_bow_predict,target_names=['Positive','Negative'])\n",
    "print(lr_bow_report)\n",
    "\n",
    "#Classification report for tfidf features\n",
    "lr_tfidf_report=classification_report(test_sentiments,lr_tfidf_predict,target_names=['Positive','Negative'])\n",
    "print(lr_tfidf_report)"
   ]
  },
  {
   "cell_type": "code",
   "execution_count": 206,
   "id": "2490c4ac-e8d9-4b43-bbc5-8d30e7f72376",
   "metadata": {},
   "outputs": [
    {
     "name": "stdout",
     "output_type": "stream",
     "text": [
      "[[5007    0]\n",
      " [4896   97]]\n",
      "[[5007    0]\n",
      " [4896   97]]\n"
     ]
    }
   ],
   "source": [
    "#confusion matrix for bag of words\n",
    "cm_bow=confusion_matrix(test_sentiments,lr_bow_predict,labels=[1,0])\n",
    "print(cm_bow)\n",
    "#confusion matrix for tfidf features\n",
    "cm_tfidf=confusion_matrix(test_sentiments,lr_tfidf_predict,labels=[1,0])\n",
    "print(cm_tfidf)"
   ]
  },
  {
   "cell_type": "code",
   "execution_count": 208,
   "id": "71375cf9-a151-45fb-8884-6e97f99dad6a",
   "metadata": {},
   "outputs": [
    {
     "name": "stdout",
     "output_type": "stream",
     "text": [
      "SGDClassifier(max_iter=500, random_state=42)\n",
      "SGDClassifier(max_iter=500, random_state=42)\n"
     ]
    }
   ],
   "source": [
    "#training the linear svm\n",
    "svm=SGDClassifier(loss='hinge',max_iter=500,random_state=42)\n",
    "#fitting the svm for bag of words\n",
    "svm_bow=svm.fit(cv_train_reviews,train_sentiments)\n",
    "print(svm_bow)\n",
    "#fitting the svm for tfidf features\n",
    "svm_tfidf=svm.fit(tv_train_reviews,train_sentiments)\n",
    "print(svm_tfidf)"
   ]
  },
  {
   "cell_type": "code",
   "execution_count": 210,
   "id": "b7db7d9b-8a6c-4291-969a-d2544f99fabb",
   "metadata": {},
   "outputs": [
    {
     "name": "stdout",
     "output_type": "stream",
     "text": [
      "[1 1 1 ... 1 1 1]\n",
      "[1 1 1 ... 1 1 1]\n"
     ]
    }
   ],
   "source": [
    "#Predicting the model for bag of words\n",
    "svm_bow_predict=svm.predict(cv_test_reviews)\n",
    "print(svm_bow_predict)\n",
    "#Predicting the model for tfidf features\n",
    "svm_tfidf_predict=svm.predict(tv_test_reviews)\n",
    "print(svm_tfidf_predict)"
   ]
  },
  {
   "cell_type": "code",
   "execution_count": 212,
   "id": "ad1c5e8b-dcb2-4a81-b0d6-1270c39f1d41",
   "metadata": {},
   "outputs": [
    {
     "name": "stdout",
     "output_type": "stream",
     "text": [
      "svm_bow_score : 0.5104\n",
      "svm_tfidf_score : 0.5104\n"
     ]
    }
   ],
   "source": [
    "#Accuracy score for bag of words\n",
    "svm_bow_score=accuracy_score(test_sentiments,svm_bow_predict)\n",
    "print(\"svm_bow_score :\",svm_bow_score)\n",
    "#Accuracy score for tfidf features\n",
    "svm_tfidf_score=accuracy_score(test_sentiments,svm_tfidf_predict)\n",
    "print(\"svm_tfidf_score :\",svm_tfidf_score)"
   ]
  },
  {
   "cell_type": "code",
   "execution_count": 214,
   "id": "e7ce33cd-f3cb-4cfd-a3b3-84a5d8b00889",
   "metadata": {},
   "outputs": [
    {
     "name": "stdout",
     "output_type": "stream",
     "text": [
      "              precision    recall  f1-score   support\n",
      "\n",
      "    Positive       1.00      0.02      0.04      4993\n",
      "    Negative       0.51      1.00      0.67      5007\n",
      "\n",
      "    accuracy                           0.51     10000\n",
      "   macro avg       0.75      0.51      0.35     10000\n",
      "weighted avg       0.75      0.51      0.36     10000\n",
      "\n",
      "              precision    recall  f1-score   support\n",
      "\n",
      "    Positive       1.00      0.02      0.04      4993\n",
      "    Negative       0.51      1.00      0.67      5007\n",
      "\n",
      "    accuracy                           0.51     10000\n",
      "   macro avg       0.75      0.51      0.35     10000\n",
      "weighted avg       0.75      0.51      0.36     10000\n",
      "\n"
     ]
    }
   ],
   "source": [
    "#Classification report for bag of words\n",
    "svm_bow_report=classification_report(test_sentiments,svm_bow_predict,target_names=['Positive','Negative'])\n",
    "print(svm_bow_report)\n",
    "#Classification report for tfidf features\n",
    "svm_tfidf_report=classification_report(test_sentiments,svm_tfidf_predict,target_names=['Positive','Negative'])\n",
    "print(svm_tfidf_report)"
   ]
  },
  {
   "cell_type": "code",
   "execution_count": 216,
   "id": "4090f93b-0c41-48b9-b857-85a5e872dd06",
   "metadata": {},
   "outputs": [
    {
     "name": "stdout",
     "output_type": "stream",
     "text": [
      "[[5007    0]\n",
      " [4896   97]]\n",
      "[[5007    0]\n",
      " [4896   97]]\n"
     ]
    }
   ],
   "source": [
    "#confusion matrix for bag of words\n",
    "cm_bow=confusion_matrix(test_sentiments,svm_bow_predict,labels=[1,0])\n",
    "print(cm_bow)\n",
    "#Confusion matrix for tfidf features\n",
    "cm_tfidf=confusion_matrix(test_sentiments,svm_tfidf_predict,labels=[1,0])\n",
    "print(cm_tfidf)"
   ]
  },
  {
   "cell_type": "code",
   "execution_count": 218,
   "id": "5bba9ed2-02fd-486d-959f-8db72bb84846",
   "metadata": {},
   "outputs": [
    {
     "name": "stdout",
     "output_type": "stream",
     "text": [
      "MultinomialNB()\n",
      "MultinomialNB()\n"
     ]
    }
   ],
   "source": [
    "#training the model\n",
    "mnb=MultinomialNB()\n",
    "#fitting the svm for bag of words\n",
    "mnb_bow=mnb.fit(cv_train_reviews,train_sentiments)\n",
    "print(mnb_bow)\n",
    "#fitting the svm for tfidf features\n",
    "mnb_tfidf=mnb.fit(tv_train_reviews,train_sentiments)\n",
    "print(mnb_tfidf)"
   ]
  },
  {
   "cell_type": "code",
   "execution_count": 220,
   "id": "468c708c-0c1a-4b54-9607-b968256cf553",
   "metadata": {},
   "outputs": [
    {
     "name": "stdout",
     "output_type": "stream",
     "text": [
      "[0 0 0 ... 0 0 0]\n",
      "[0 0 0 ... 0 0 0]\n"
     ]
    }
   ],
   "source": [
    "#predicting the model for bag of words\n",
    "mnb_bow_predict=mnb.predict(cv_test_reviews)\n",
    "print(mnb_bow_predict)\n",
    "#Predicting the model for tfidf features\n",
    "mnb_tfidf_predict=mnb.predict(tv_test_reviews)\n",
    "print(mnb_tfidf_predict)"
   ]
  },
  {
   "cell_type": "code",
   "execution_count": 224,
   "id": "3f490816-4440-46fe-b750-3308b529c4d9",
   "metadata": {},
   "outputs": [
    {
     "name": "stdout",
     "output_type": "stream",
     "text": [
      "mnb_bow_score : 0.5032\n",
      "mnb_tfidf_score : 0.5032\n"
     ]
    }
   ],
   "source": [
    "#Accuracy score for bag of words\n",
    "mnb_bow_score=accuracy_score(test_sentiments,mnb_bow_predict)\n",
    "print(\"mnb_bow_score :\",mnb_bow_score)\n",
    "#Accuracy score for tfidf features\n",
    "mnb_tfidf_score=accuracy_score(test_sentiments,mnb_tfidf_predict)\n",
    "print(\"mnb_tfidf_score :\",mnb_tfidf_score)"
   ]
  },
  {
   "cell_type": "code",
   "execution_count": 226,
   "id": "678830cb-f711-4bcf-b7fb-73414b1cc249",
   "metadata": {},
   "outputs": [
    {
     "name": "stdout",
     "output_type": "stream",
     "text": [
      "              precision    recall  f1-score   support\n",
      "\n",
      "    Positive       0.50      1.00      0.67      4993\n",
      "    Negative       1.00      0.01      0.02      5007\n",
      "\n",
      "    accuracy                           0.50     10000\n",
      "   macro avg       0.75      0.50      0.34     10000\n",
      "weighted avg       0.75      0.50      0.34     10000\n",
      "\n",
      "              precision    recall  f1-score   support\n",
      "\n",
      "    Positive       0.50      1.00      0.67      4993\n",
      "    Negative       1.00      0.01      0.02      5007\n",
      "\n",
      "    accuracy                           0.50     10000\n",
      "   macro avg       0.75      0.50      0.34     10000\n",
      "weighted avg       0.75      0.50      0.34     10000\n",
      "\n"
     ]
    }
   ],
   "source": [
    "#Classification report for bag of words\n",
    "mnb_bow_report=classification_report(test_sentiments,mnb_bow_predict,target_names=['Positive','Negative'])\n",
    "print(mnb_bow_report)\n",
    "#Classification report for tfidf features\n",
    "mnb_tfidf_report=classification_report(test_sentiments,mnb_tfidf_predict,target_names=['Positive','Negative'])\n",
    "print(mnb_tfidf_report)"
   ]
  },
  {
   "cell_type": "code",
   "execution_count": 228,
   "id": "cb82d587-85d8-4a55-9ae3-f73b45f90cbb",
   "metadata": {},
   "outputs": [
    {
     "name": "stdout",
     "output_type": "stream",
     "text": [
      "[[  39 4968]\n",
      " [   0 4993]]\n",
      "[[  39 4968]\n",
      " [   0 4993]]\n"
     ]
    }
   ],
   "source": [
    "#confusion matrix for bag of words\n",
    "cm_bow=confusion_matrix(test_sentiments,mnb_bow_predict,labels=[1,0])\n",
    "print(cm_bow)\n",
    "#confusion matrix for tfidf features\n",
    "cm_tfidf=confusion_matrix(test_sentiments,mnb_tfidf_predict,labels=[1,0])\n",
    "print(cm_tfidf)"
   ]
  },
  {
   "cell_type": "code",
   "execution_count": 162,
   "id": "8175ef60-be43-4f24-97ee-d1f8bb35dd24",
   "metadata": {},
   "outputs": [
    {
     "data": {
      "text/plain": [
       "<function matplotlib.pyplot.show(close=None, block=None)>"
      ]
     },
     "execution_count": 162,
     "metadata": {},
     "output_type": "execute_result"
    },
    {
     "data": {
      "image/png": "[encoded data removed]",
      "text/plain": [
       "<Figure size 1000x1000 with 1 Axes>"
      ]
     },
     "metadata": {},
     "output_type": "display_data"
    }
   ],
   "source": [
    "#word cloud for positive review words\n",
    "plt.figure(figsize=(10,10))\n",
    "positive_text=norm_train_reviews[1]\n",
    "WC=WordCloud(width=1000,height=500,max_words=500,min_font_size=5)\n",
    "positive_words=WC.generate(positive_text)\n",
    "plt.imshow(positive_words,interpolation='bilinear')\n",
    "plt.show"
   ]
  },
  {
   "cell_type": "code",
   "execution_count": 230,
   "id": "4a1471ea-ac6c-4162-b019-738695b17287",
   "metadata": {},
   "outputs": [
    {
     "data": {
      "text/plain": [
       "<function matplotlib.pyplot.show(close=None, block=None)>"
      ]
     },
     "execution_count": 230,
     "metadata": {},
     "output_type": "execute_result"
    },
    {
     "data": {
      "image/png": "[encoded data removed]",
      "text/plain": [
       "<Figure size 1000x1000 with 1 Axes>"
      ]
     },
     "metadata": {},
     "output_type": "display_data"
    }
   ],
   "source": [
    "#Word cloud for negative review words\n",
    "plt.figure(figsize=(10,10))\n",
    "negative_text=norm_train_reviews[8]\n",
    "WC=WordCloud(width=1000,height=500,max_words=500,min_font_size=5)\n",
    "negative_words=WC.generate(negative_text)\n",
    "plt.imshow(negative_words,interpolation='bilinear')\n",
    "plt.show\n"
   ]
  },
  {
   "cell_type": "code",
   "execution_count": null,
   "id": "2b73d527-69ef-4165-95a8-1c5daa59fa55",
   "metadata": {},
   "outputs": [],
   "source": []
  }
 ],
 "metadata": {
  "kernelspec": {
   "display_name": "Python 3 (ipykernel)",
   "language": "python",
   "name": "python3"
  },
  "language_info": {
   "codemirror_mode": {
    "name": "ipython",
    "version": 3
   },
   "file_extension": ".py",
   "mimetype": "text/x-python",
   "name": "python",
   "nbconvert_exporter": "python",
   "pygments_lexer": "ipython3",
   "version": "3.12.4"
  }
 },
 "nbformat": 4,
 "nbformat_minor": 5
}
